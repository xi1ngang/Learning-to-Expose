{
 "cells": [
  {
   "cell_type": "code",
   "execution_count": null,
   "metadata": {},
   "outputs": [],
   "source": [
    "from PIL import Image\n",
    "import torch\n",
    "# Model\n",
    "model = torch.hub.load(\"ultralytics/yolov5\", \"yolov5s\", pretrained=True)  # or yolov5n - yolov5x6, custom\n",
    "\n",
    "# Images\n",
    "img = \"C:\\\\Users\\\\xingang\\\\Desktop\\\\AEC_dataset\\\\bright\\\\scene8\\\\images\\\\205-1\\\\205-1-00060-41861.675.png\"  # or file, Path, PIL, OpenCV, numpy, list\n",
    "\n",
    "# Rotate the image 90 degrees to the right\n",
    "# Load the image\n",
    "img = Image.open(img)\n",
    "# Rotate the image 90 degrees to the right\n",
    "rotated_img = img.rotate(90, expand=True)\n",
    "\n",
    "results = model(rotated_img)\n",
    "\n",
    "# Results\n",
    "results.save()  # or .show(), .save(), .crop(), .pandas(), etc.\n"
   ]
  },
  {
   "cell_type": "code",
   "execution_count": null,
   "metadata": {},
   "outputs": [],
   "source": [
    "import numpy as np\n",
    "import matplotlib.pyplot as plt\n",
    "\n",
    "def plot_absolute_value_functions():\n",
    "    # Define the range for x\n",
    "    x = np.linspace(-5, 5, 400)\n",
    "\n",
    "    # Define the functions\n",
    "    f1 = np.abs(x)\n",
    "\n",
    "    # Create the plot\n",
    "    plt.figure(figsize=(8, 6))\n",
    "    plt.plot(x, f1, label=r'$f(x) = |x-2|$', color='blue', linewidth=2.5)\n",
    "\n",
    "    # Add labels and title\n",
    "    plt.xlabel('x', fontsize=18)\n",
    "    plt.ylabel('f(x)', fontsize=18)\n",
    "    plt.axhline(0, color='black', linewidth=0.8, linestyle='--')\n",
    "    plt.axvline(0, color='black', linewidth=0.8, linestyle='--')\n",
    "\n",
    "    # Set tick label font sizes\n",
    "    plt.xticks(fontsize=16)\n",
    "    plt.yticks(fontsize=16)\n",
    "\n",
    "    # Add a legend\n",
    "    plt.legend(fontsize=16)\n",
    "\n",
    "    # Show the plot\n",
    "    plt.grid(True)\n",
    "    plt.show()\n",
    "\n",
    "# Call the function to generate the plot\n",
    "plot_absolute_value_functions()"
   ]
  },
  {
   "cell_type": "code",
   "execution_count": null,
   "metadata": {},
   "outputs": [],
   "source": [
    "import numpy as np\n",
    "import matplotlib.pyplot as plt\n",
    "\n",
    "# Create the plot\n",
    "plt.figure(figsize=(8, 6))\n",
    "plt.plot([1,2,3,4], [4, 47, 43,43], color='blue', linewidth=2.5)\n",
    "\n",
    "# Add labels and title\n",
    "plt.xlabel('x', fontsize=18)\n",
    "plt.ylabel('f(x)', fontsize=18)"
   ]
  }
 ],
 "metadata": {
  "language_info": {
   "name": "python"
  }
 },
 "nbformat": 4,
 "nbformat_minor": 2
}
